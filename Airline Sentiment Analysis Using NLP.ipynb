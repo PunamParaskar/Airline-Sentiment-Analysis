{
  "nbformat": 4,
  "nbformat_minor": 0,
  "metadata": {
    "colab": {
      "provenance": []
    },
    "kernelspec": {
      "name": "python3",
      "display_name": "Python 3"
    },
    "language_info": {
      "name": "python"
    }
  },
  "cells": [
    {
      "cell_type": "code",
      "execution_count": null,
      "metadata": {
        "id": "jY_a6mjqRaNb"
      },
      "outputs": [],
      "source": [
        "import pandas as pd\n",
        "import re\n",
        "from nltk.corpus import stopwords\n",
        "from nltk.tokenize import word_tokenize\n",
        "from nltk.probability import FreqDist\n",
        "import string"
      ]
    },
    {
      "cell_type": "code",
      "source": [
        "import nltk\n",
        "nltk.download('stopwords')\n",
        "nltk.download('punkt')"
      ],
      "metadata": {
        "colab": {
          "base_uri": "https://localhost:8080/"
        },
        "id": "zROCcGr6R3AE",
        "outputId": "22bae3be-d203-45f3-8d4b-9dd4f4fc0dfa"
      },
      "execution_count": null,
      "outputs": [
        {
          "output_type": "stream",
          "name": "stderr",
          "text": [
            "[nltk_data] Downloading package stopwords to /root/nltk_data...\n",
            "[nltk_data]   Unzipping corpora/stopwords.zip.\n",
            "[nltk_data] Downloading package punkt to /root/nltk_data...\n",
            "[nltk_data]   Unzipping tokenizers/punkt.zip.\n"
          ]
        },
        {
          "output_type": "execute_result",
          "data": {
            "text/plain": [
              "True"
            ]
          },
          "metadata": {},
          "execution_count": 2
        }
      ]
    },
    {
      "cell_type": "code",
      "source": [
        "# Read the training data using pandas\n",
        "train_df = pd.read_csv('/content/Tweets-train.csv')\n",
        "train_df.head()"
      ],
      "metadata": {
        "id": "hRQGfZg_SARA",
        "colab": {
          "base_uri": "https://localhost:8080/",
          "height": 451
        },
        "outputId": "eeb28fc5-fc37-4d77-ac9f-d60edd3dd1f9"
      },
      "execution_count": null,
      "outputs": [
        {
          "output_type": "execute_result",
          "data": {
            "text/plain": [
              "             tweet_id airline_sentiment  airline_sentiment_confidence  \\\n",
              "0  570301130888122368          positive                        0.3486   \n",
              "1  570301083672813571           neutral                        0.6837   \n",
              "2  570301031407624196          negative                        1.0000   \n",
              "3  570300817074462722          negative                        1.0000   \n",
              "4  570300616901320704          positive                        0.6745   \n",
              "\n",
              "  negativereason  negativereason_confidence         airline  \\\n",
              "0            NaN                     0.0000  Virgin America   \n",
              "1            NaN                        NaN  Virgin America   \n",
              "2     Bad Flight                     0.7033  Virgin America   \n",
              "3     Can't Tell                     1.0000  Virgin America   \n",
              "4            NaN                     0.0000  Virgin America   \n",
              "\n",
              "  airline_sentiment_gold        name negativereason_gold  retweet_count  \\\n",
              "0                    NaN    jnardino                 NaN              0   \n",
              "1                    NaN  yvonnalynn                 NaN              0   \n",
              "2                    NaN    jnardino                 NaN              0   \n",
              "3                    NaN    jnardino                 NaN              0   \n",
              "4                    NaN  cjmcginnis                 NaN              0   \n",
              "\n",
              "                                                text tweet_coord  \\\n",
              "0  @VirginAmerica plus you've added commercials t...         NaN   \n",
              "1  @VirginAmerica I didn't today... Must mean I n...         NaN   \n",
              "2  @VirginAmerica it's really aggressive to blast...         NaN   \n",
              "3  @VirginAmerica and it's a really big bad thing...         NaN   \n",
              "4  @VirginAmerica yes, nearly every time I fly VX...         NaN   \n",
              "\n",
              "               tweet_created    tweet_location               user_timezone  \n",
              "0  2015-02-24 11:15:59 -0800               NaN  Pacific Time (US & Canada)  \n",
              "1  2015-02-24 11:15:48 -0800         Lets Play  Central Time (US & Canada)  \n",
              "2  2015-02-24 11:15:36 -0800               NaN  Pacific Time (US & Canada)  \n",
              "3  2015-02-24 11:14:45 -0800               NaN  Pacific Time (US & Canada)  \n",
              "4  2015-02-24 11:13:57 -0800  San Francisco CA  Pacific Time (US & Canada)  "
            ],
            "text/html": [
              "\n",
              "  <div id=\"df-181daaee-2e61-45fe-a398-cd3aed65ec4e\" class=\"colab-df-container\">\n",
              "    <div>\n",
              "<style scoped>\n",
              "    .dataframe tbody tr th:only-of-type {\n",
              "        vertical-align: middle;\n",
              "    }\n",
              "\n",
              "    .dataframe tbody tr th {\n",
              "        vertical-align: top;\n",
              "    }\n",
              "\n",
              "    .dataframe thead th {\n",
              "        text-align: right;\n",
              "    }\n",
              "</style>\n",
              "<table border=\"1\" class=\"dataframe\">\n",
              "  <thead>\n",
              "    <tr style=\"text-align: right;\">\n",
              "      <th></th>\n",
              "      <th>tweet_id</th>\n",
              "      <th>airline_sentiment</th>\n",
              "      <th>airline_sentiment_confidence</th>\n",
              "      <th>negativereason</th>\n",
              "      <th>negativereason_confidence</th>\n",
              "      <th>airline</th>\n",
              "      <th>airline_sentiment_gold</th>\n",
              "      <th>name</th>\n",
              "      <th>negativereason_gold</th>\n",
              "      <th>retweet_count</th>\n",
              "      <th>text</th>\n",
              "      <th>tweet_coord</th>\n",
              "      <th>tweet_created</th>\n",
              "      <th>tweet_location</th>\n",
              "      <th>user_timezone</th>\n",
              "    </tr>\n",
              "  </thead>\n",
              "  <tbody>\n",
              "    <tr>\n",
              "      <th>0</th>\n",
              "      <td>570301130888122368</td>\n",
              "      <td>positive</td>\n",
              "      <td>0.3486</td>\n",
              "      <td>NaN</td>\n",
              "      <td>0.0000</td>\n",
              "      <td>Virgin America</td>\n",
              "      <td>NaN</td>\n",
              "      <td>jnardino</td>\n",
              "      <td>NaN</td>\n",
              "      <td>0</td>\n",
              "      <td>@VirginAmerica plus you've added commercials t...</td>\n",
              "      <td>NaN</td>\n",
              "      <td>2015-02-24 11:15:59 -0800</td>\n",
              "      <td>NaN</td>\n",
              "      <td>Pacific Time (US &amp; Canada)</td>\n",
              "    </tr>\n",
              "    <tr>\n",
              "      <th>1</th>\n",
              "      <td>570301083672813571</td>\n",
              "      <td>neutral</td>\n",
              "      <td>0.6837</td>\n",
              "      <td>NaN</td>\n",
              "      <td>NaN</td>\n",
              "      <td>Virgin America</td>\n",
              "      <td>NaN</td>\n",
              "      <td>yvonnalynn</td>\n",
              "      <td>NaN</td>\n",
              "      <td>0</td>\n",
              "      <td>@VirginAmerica I didn't today... Must mean I n...</td>\n",
              "      <td>NaN</td>\n",
              "      <td>2015-02-24 11:15:48 -0800</td>\n",
              "      <td>Lets Play</td>\n",
              "      <td>Central Time (US &amp; Canada)</td>\n",
              "    </tr>\n",
              "    <tr>\n",
              "      <th>2</th>\n",
              "      <td>570301031407624196</td>\n",
              "      <td>negative</td>\n",
              "      <td>1.0000</td>\n",
              "      <td>Bad Flight</td>\n",
              "      <td>0.7033</td>\n",
              "      <td>Virgin America</td>\n",
              "      <td>NaN</td>\n",
              "      <td>jnardino</td>\n",
              "      <td>NaN</td>\n",
              "      <td>0</td>\n",
              "      <td>@VirginAmerica it's really aggressive to blast...</td>\n",
              "      <td>NaN</td>\n",
              "      <td>2015-02-24 11:15:36 -0800</td>\n",
              "      <td>NaN</td>\n",
              "      <td>Pacific Time (US &amp; Canada)</td>\n",
              "    </tr>\n",
              "    <tr>\n",
              "      <th>3</th>\n",
              "      <td>570300817074462722</td>\n",
              "      <td>negative</td>\n",
              "      <td>1.0000</td>\n",
              "      <td>Can't Tell</td>\n",
              "      <td>1.0000</td>\n",
              "      <td>Virgin America</td>\n",
              "      <td>NaN</td>\n",
              "      <td>jnardino</td>\n",
              "      <td>NaN</td>\n",
              "      <td>0</td>\n",
              "      <td>@VirginAmerica and it's a really big bad thing...</td>\n",
              "      <td>NaN</td>\n",
              "      <td>2015-02-24 11:14:45 -0800</td>\n",
              "      <td>NaN</td>\n",
              "      <td>Pacific Time (US &amp; Canada)</td>\n",
              "    </tr>\n",
              "    <tr>\n",
              "      <th>4</th>\n",
              "      <td>570300616901320704</td>\n",
              "      <td>positive</td>\n",
              "      <td>0.6745</td>\n",
              "      <td>NaN</td>\n",
              "      <td>0.0000</td>\n",
              "      <td>Virgin America</td>\n",
              "      <td>NaN</td>\n",
              "      <td>cjmcginnis</td>\n",
              "      <td>NaN</td>\n",
              "      <td>0</td>\n",
              "      <td>@VirginAmerica yes, nearly every time I fly VX...</td>\n",
              "      <td>NaN</td>\n",
              "      <td>2015-02-24 11:13:57 -0800</td>\n",
              "      <td>San Francisco CA</td>\n",
              "      <td>Pacific Time (US &amp; Canada)</td>\n",
              "    </tr>\n",
              "  </tbody>\n",
              "</table>\n",
              "</div>\n",
              "    <div class=\"colab-df-buttons\">\n",
              "\n",
              "  <div class=\"colab-df-container\">\n",
              "    <button class=\"colab-df-convert\" onclick=\"convertToInteractive('df-181daaee-2e61-45fe-a398-cd3aed65ec4e')\"\n",
              "            title=\"Convert this dataframe to an interactive table.\"\n",
              "            style=\"display:none;\">\n",
              "\n",
              "  <svg xmlns=\"http://www.w3.org/2000/svg\" height=\"24px\" viewBox=\"0 -960 960 960\">\n",
              "    <path d=\"M120-120v-720h720v720H120Zm60-500h600v-160H180v160Zm220 220h160v-160H400v160Zm0 220h160v-160H400v160ZM180-400h160v-160H180v160Zm440 0h160v-160H620v160ZM180-180h160v-160H180v160Zm440 0h160v-160H620v160Z\"/>\n",
              "  </svg>\n",
              "    </button>\n",
              "\n",
              "  <style>\n",
              "    .colab-df-container {\n",
              "      display:flex;\n",
              "      gap: 12px;\n",
              "    }\n",
              "\n",
              "    .colab-df-convert {\n",
              "      background-color: #E8F0FE;\n",
              "      border: none;\n",
              "      border-radius: 50%;\n",
              "      cursor: pointer;\n",
              "      display: none;\n",
              "      fill: #1967D2;\n",
              "      height: 32px;\n",
              "      padding: 0 0 0 0;\n",
              "      width: 32px;\n",
              "    }\n",
              "\n",
              "    .colab-df-convert:hover {\n",
              "      background-color: #E2EBFA;\n",
              "      box-shadow: 0px 1px 2px rgba(60, 64, 67, 0.3), 0px 1px 3px 1px rgba(60, 64, 67, 0.15);\n",
              "      fill: #174EA6;\n",
              "    }\n",
              "\n",
              "    .colab-df-buttons div {\n",
              "      margin-bottom: 4px;\n",
              "    }\n",
              "\n",
              "    [theme=dark] .colab-df-convert {\n",
              "      background-color: #3B4455;\n",
              "      fill: #D2E3FC;\n",
              "    }\n",
              "\n",
              "    [theme=dark] .colab-df-convert:hover {\n",
              "      background-color: #434B5C;\n",
              "      box-shadow: 0px 1px 3px 1px rgba(0, 0, 0, 0.15);\n",
              "      filter: drop-shadow(0px 1px 2px rgba(0, 0, 0, 0.3));\n",
              "      fill: #FFFFFF;\n",
              "    }\n",
              "  </style>\n",
              "\n",
              "    <script>\n",
              "      const buttonEl =\n",
              "        document.querySelector('#df-181daaee-2e61-45fe-a398-cd3aed65ec4e button.colab-df-convert');\n",
              "      buttonEl.style.display =\n",
              "        google.colab.kernel.accessAllowed ? 'block' : 'none';\n",
              "\n",
              "      async function convertToInteractive(key) {\n",
              "        const element = document.querySelector('#df-181daaee-2e61-45fe-a398-cd3aed65ec4e');\n",
              "        const dataTable =\n",
              "          await google.colab.kernel.invokeFunction('convertToInteractive',\n",
              "                                                    [key], {});\n",
              "        if (!dataTable) return;\n",
              "\n",
              "        const docLinkHtml = 'Like what you see? Visit the ' +\n",
              "          '<a target=\"_blank\" href=https://colab.research.google.com/notebooks/data_table.ipynb>data table notebook</a>'\n",
              "          + ' to learn more about interactive tables.';\n",
              "        element.innerHTML = '';\n",
              "        dataTable['output_type'] = 'display_data';\n",
              "        await google.colab.output.renderOutput(dataTable, element);\n",
              "        const docLink = document.createElement('div');\n",
              "        docLink.innerHTML = docLinkHtml;\n",
              "        element.appendChild(docLink);\n",
              "      }\n",
              "    </script>\n",
              "  </div>\n",
              "\n",
              "\n",
              "<div id=\"df-27f05545-6eec-4e3b-b9ed-70364e8a59fa\">\n",
              "  <button class=\"colab-df-quickchart\" onclick=\"quickchart('df-27f05545-6eec-4e3b-b9ed-70364e8a59fa')\"\n",
              "            title=\"Suggest charts\"\n",
              "            style=\"display:none;\">\n",
              "\n",
              "<svg xmlns=\"http://www.w3.org/2000/svg\" height=\"24px\"viewBox=\"0 0 24 24\"\n",
              "     width=\"24px\">\n",
              "    <g>\n",
              "        <path d=\"M19 3H5c-1.1 0-2 .9-2 2v14c0 1.1.9 2 2 2h14c1.1 0 2-.9 2-2V5c0-1.1-.9-2-2-2zM9 17H7v-7h2v7zm4 0h-2V7h2v10zm4 0h-2v-4h2v4z\"/>\n",
              "    </g>\n",
              "</svg>\n",
              "  </button>\n",
              "\n",
              "<style>\n",
              "  .colab-df-quickchart {\n",
              "      --bg-color: #E8F0FE;\n",
              "      --fill-color: #1967D2;\n",
              "      --hover-bg-color: #E2EBFA;\n",
              "      --hover-fill-color: #174EA6;\n",
              "      --disabled-fill-color: #AAA;\n",
              "      --disabled-bg-color: #DDD;\n",
              "  }\n",
              "\n",
              "  [theme=dark] .colab-df-quickchart {\n",
              "      --bg-color: #3B4455;\n",
              "      --fill-color: #D2E3FC;\n",
              "      --hover-bg-color: #434B5C;\n",
              "      --hover-fill-color: #FFFFFF;\n",
              "      --disabled-bg-color: #3B4455;\n",
              "      --disabled-fill-color: #666;\n",
              "  }\n",
              "\n",
              "  .colab-df-quickchart {\n",
              "    background-color: var(--bg-color);\n",
              "    border: none;\n",
              "    border-radius: 50%;\n",
              "    cursor: pointer;\n",
              "    display: none;\n",
              "    fill: var(--fill-color);\n",
              "    height: 32px;\n",
              "    padding: 0;\n",
              "    width: 32px;\n",
              "  }\n",
              "\n",
              "  .colab-df-quickchart:hover {\n",
              "    background-color: var(--hover-bg-color);\n",
              "    box-shadow: 0 1px 2px rgba(60, 64, 67, 0.3), 0 1px 3px 1px rgba(60, 64, 67, 0.15);\n",
              "    fill: var(--button-hover-fill-color);\n",
              "  }\n",
              "\n",
              "  .colab-df-quickchart-complete:disabled,\n",
              "  .colab-df-quickchart-complete:disabled:hover {\n",
              "    background-color: var(--disabled-bg-color);\n",
              "    fill: var(--disabled-fill-color);\n",
              "    box-shadow: none;\n",
              "  }\n",
              "\n",
              "  .colab-df-spinner {\n",
              "    border: 2px solid var(--fill-color);\n",
              "    border-color: transparent;\n",
              "    border-bottom-color: var(--fill-color);\n",
              "    animation:\n",
              "      spin 1s steps(1) infinite;\n",
              "  }\n",
              "\n",
              "  @keyframes spin {\n",
              "    0% {\n",
              "      border-color: transparent;\n",
              "      border-bottom-color: var(--fill-color);\n",
              "      border-left-color: var(--fill-color);\n",
              "    }\n",
              "    20% {\n",
              "      border-color: transparent;\n",
              "      border-left-color: var(--fill-color);\n",
              "      border-top-color: var(--fill-color);\n",
              "    }\n",
              "    30% {\n",
              "      border-color: transparent;\n",
              "      border-left-color: var(--fill-color);\n",
              "      border-top-color: var(--fill-color);\n",
              "      border-right-color: var(--fill-color);\n",
              "    }\n",
              "    40% {\n",
              "      border-color: transparent;\n",
              "      border-right-color: var(--fill-color);\n",
              "      border-top-color: var(--fill-color);\n",
              "    }\n",
              "    60% {\n",
              "      border-color: transparent;\n",
              "      border-right-color: var(--fill-color);\n",
              "    }\n",
              "    80% {\n",
              "      border-color: transparent;\n",
              "      border-right-color: var(--fill-color);\n",
              "      border-bottom-color: var(--fill-color);\n",
              "    }\n",
              "    90% {\n",
              "      border-color: transparent;\n",
              "      border-bottom-color: var(--fill-color);\n",
              "    }\n",
              "  }\n",
              "</style>\n",
              "\n",
              "  <script>\n",
              "    async function quickchart(key) {\n",
              "      const quickchartButtonEl =\n",
              "        document.querySelector('#' + key + ' button');\n",
              "      quickchartButtonEl.disabled = true;  // To prevent multiple clicks.\n",
              "      quickchartButtonEl.classList.add('colab-df-spinner');\n",
              "      try {\n",
              "        const charts = await google.colab.kernel.invokeFunction(\n",
              "            'suggestCharts', [key], {});\n",
              "      } catch (error) {\n",
              "        console.error('Error during call to suggestCharts:', error);\n",
              "      }\n",
              "      quickchartButtonEl.classList.remove('colab-df-spinner');\n",
              "      quickchartButtonEl.classList.add('colab-df-quickchart-complete');\n",
              "    }\n",
              "    (() => {\n",
              "      let quickchartButtonEl =\n",
              "        document.querySelector('#df-27f05545-6eec-4e3b-b9ed-70364e8a59fa button');\n",
              "      quickchartButtonEl.style.display =\n",
              "        google.colab.kernel.accessAllowed ? 'block' : 'none';\n",
              "    })();\n",
              "  </script>\n",
              "</div>\n",
              "    </div>\n",
              "  </div>\n"
            ]
          },
          "metadata": {},
          "execution_count": 3
        }
      ]
    },
    {
      "cell_type": "code",
      "source": [
        "# select only the 'sentiment' and 'text' columns\n",
        "train_df = train_df[['airline_sentiment', 'text']]"
      ],
      "metadata": {
        "id": "XY5bIkY2Skkd"
      },
      "execution_count": null,
      "outputs": []
    },
    {
      "cell_type": "code",
      "source": [
        "# function to clean tweets\n",
        "def clean_tweet(tweet):\n",
        "    # Remove references with '@'\n",
        "    tweet = re.sub(r'@\\S+', '', tweet)\n",
        "\n",
        "    # Remove links (http, https)\n",
        "    tweet = re.sub(r'http\\S+|https\\S+', '', tweet)\n",
        "\n",
        "    # Remove punctuations\n",
        "    tweet = re.sub(r'[^\\w\\s]', '', tweet)\n",
        "\n",
        "    # Remove emoticons (you may need a more comprehensive list of emoticons)\n",
        "    tweet = re.sub(r'(:|;|=)(?:-)?(?:\\)|\\(|D|P)', '', tweet)\n",
        "\n",
        "    return tweet"
      ],
      "metadata": {
        "id": "vLOKRHOSS1kx"
      },
      "execution_count": null,
      "outputs": []
    },
    {
      "cell_type": "code",
      "source": [
        "# Apply the clean_tweet function to the 'text' column and save changes in a new column 'clean_text'\n",
        "train_df['clean_text'] = train_df['text'].apply(clean_tweet)\n"
      ],
      "metadata": {
        "id": "WINcgUCuV73g"
      },
      "execution_count": null,
      "outputs": []
    },
    {
      "cell_type": "code",
      "source": [
        "# Display randomely generated 10 tweets for each sentiment after cleaning\n",
        "for sentiment in train_df['airline_sentiment'].unique():\n",
        "    print(f\"\\nRandomly generated 10 cleaned tweets for sentiment: {sentiment}\")\n",
        "    sample_tweets = train_df[train_df['airline_sentiment'] == sentiment]['clean_text'].sample(10, random_state=42)\n",
        "    print(sample_tweets)"
      ],
      "metadata": {
        "colab": {
          "base_uri": "https://localhost:8080/"
        },
        "id": "X54GoIhjYjMK",
        "outputId": "2bd8cff1-e761-469d-fc68-08b72cff7e44"
      },
      "execution_count": null,
      "outputs": [
        {
          "output_type": "stream",
          "name": "stdout",
          "text": [
            "\n",
            "Randomly generated 10 cleaned tweets for sentiment: positive\n",
            "1949      I just received notification of inflight WiFi...\n",
            "5733      today my family gets to experience mosaic sta...\n",
            "3381      A to the Safety Dos and Donts Announcer Fligh...\n",
            "6895      we called and were able to get rescheduled Th...\n",
            "3494      were pulling off the runway now Making new fr...\n",
            "10032      Those are very beautiful photos Thx Would ma...\n",
            "2618      Your staff both on deck and in the cabin on U...\n",
            "9569      FANTASTIC thanks again for coming thru with g...\n",
            "81         amazing customer  service again  RaeAnn in S...\n",
            "4562                                   Awesome Sending now\n",
            "Name: clean_text, dtype: object\n",
            "\n",
            "Randomly generated 10 cleaned tweets for sentiment: neutral\n",
            "6533      that is certainly not the impression shes under\n",
            "2464      Definately not an award for employer of the ...\n",
            "3309     Could you maybe hook   with some imagine drag...\n",
            "1099                         on a flight at 1130 tomorrow\n",
            "6612       can i please have someone call me 781 879 4505\n",
            "4067     I will if you can see about moving up my Brot...\n",
            "7519     Can I book award travel on Etihad with Divide...\n",
            "7576     well depending on the policy will make the de...\n",
            "5459                                        dont I always\n",
            "5902     CEO battles to appease passengers and Wall St...\n",
            "Name: clean_text, dtype: object\n",
            "\n",
            "Randomly generated 10 cleaned tweets for sentiment: negative\n",
            "533      Its still a valid flight Just seems strange t...\n",
            "976      please stop spending mktg  on branding ads Us...\n",
            "9145     you have Cancelled Flightled my flights becau...\n",
            "9032     I shared my experience several times AA Ref12...\n",
            "9320     my bags were checked through to Cancelled Fli...\n",
            "7962     todays flight to Philadelphia  Its a little d...\n",
            "3902     app error  says click here cant click not hyp...\n",
            "5522          why dont YOU tell them to update the boards\n",
            "8076     so basically I am stuck paying for hidden fee...\n",
            "3999     heyo What is causing flight 1836 ewr to hou t...\n",
            "Name: clean_text, dtype: object\n"
          ]
        }
      ]
    },
    {
      "cell_type": "code",
      "source": [],
      "metadata": {
        "id": "erXA0GEOKYB4"
      },
      "execution_count": null,
      "outputs": []
    },
    {
      "cell_type": "code",
      "source": [
        "# Apply the remove_stopwords_and_get_common_words function to the 'clean_text' column\n",
        "train_df['clean_text_no_stopwords'], common_words_list = zip(*train_df['clean_text'].apply(remove_stopwords_and_get_common_words))\n",
        "\n",
        "# Display most common 15 words for each sentiment\n",
        "for sentiment, common_words in zip(train_df['airline_sentiment'].unique(), common_words_list):\n",
        "    print(f\"\\nMost common 15 words for sentiment: {sentiment}\")\n",
        "    print(common_words)\n",
        "\n",
        "# Remove common words from all tweets\n",
        "common_words_set = set(word for common_words in common_words_list for word, _ in common_words)\n",
        "train_df['final_clean_text'] = train_df['clean_text_no_stopwords'].apply(lambda x: ' '.join([word for word in x.split() if word not in common_words_set]))\n",
        "\n",
        "# Display the final cleaned and processed DataFrame\n",
        "print(\"\\nFinal Cleaned and Processed DataFrame:\")\n",
        "print(train_df[['airline_sentiment', 'final_clean_text']].head())"
      ],
      "metadata": {
        "colab": {
          "base_uri": "https://localhost:8080/"
        },
        "outputId": "556bea8f-2410-4bb1-d142-10e06a7ee535",
        "id": "xlxoz9ofKYds"
      },
      "execution_count": null,
      "outputs": [
        {
          "output_type": "stream",
          "name": "stdout",
          "text": [
            "\n",
            "Most common 15 words for sentiment: positive\n",
            "[('plus', 1), ('youve', 1), ('added', 1), ('commercials', 1), ('experience', 1), ('tacky', 1)]\n",
            "\n",
            "Most common 15 words for sentiment: neutral\n",
            "[('didnt', 1), ('today', 1), ('must', 1), ('mean', 1), ('need', 1), ('take', 1), ('another', 1), ('trip', 1)]\n",
            "\n",
            "Most common 15 words for sentiment: negative\n",
            "[('really', 1), ('aggressive', 1), ('blast', 1), ('obnoxious', 1), ('entertainment', 1), ('guests', 1), ('faces', 1), ('amp', 1), ('little', 1), ('recourse', 1)]\n",
            "\n",
            "Final Cleaned and Processed DataFrame:\n",
            "  airline_sentiment final_clean_text\n",
            "0          positive                 \n",
            "1           neutral                 \n",
            "2          negative                 \n",
            "3          negative                 \n",
            "4          positive                 \n"
          ]
        }
      ]
    },
    {
      "cell_type": "code",
      "source": [
        "# Function to remove stopwords and list down most common 15 words\n",
        "def remove_stopwords_and_get_common_words(text):\n",
        "    stop_words = set(stopwords.words('english'))\n",
        "    words = word_tokenize(text.lower())\n",
        "    words = [word for word in words if word.isalpha() and word not in stop_words]\n",
        "\n",
        "    # List down most common 15 words\n",
        "    fdist = FreqDist(words)\n",
        "    common_words = fdist.most_common(15)\n",
        "\n",
        "    return ' '.join(words)\n",
        "\n",
        "# Apply the modified function to the 'clean_text' column in the test data\n",
        "test_df['clean_text_no_stopwords'] = test_df['clean_text'].apply(remove_stopwords_and_get_common_words)\n",
        "test_df['clean_text_no_stopwords'] = test_df['clean_text_no_stopwords'].apply(lambda x: ' '.join([word for word in x.split() if word not in words_to_remove]))\n",
        "test_df['encoded_sentiment'] = label_encoder.transform(test_df['airline_sentiment'])\n",
        "X_test = vectorizer.transform(test_df['clean_text_no_stopwords'])"
      ],
      "metadata": {
        "id": "RxapU5NEavW2"
      },
      "execution_count": null,
      "outputs": []
    },
    {
      "cell_type": "code",
      "source": [
        "import pandas as pd\n",
        "import re\n",
        "from nltk.corpus import stopwords\n",
        "from nltk.tokenize import word_tokenize\n",
        "from nltk.probability import FreqDist\n",
        "import string\n",
        "from sklearn.feature_extraction.text import CountVectorizer\n",
        "from sklearn.model_selection import train_test_split\n",
        "from sklearn.preprocessing import LabelEncoder\n",
        "from sklearn.ensemble import RandomForestClassifier\n",
        "from sklearn.metrics import confusion_matrix, accuracy_score\n",
        "import seaborn as sns\n",
        "import nltk"
      ],
      "metadata": {
        "id": "J0iDsUTLHcNU"
      },
      "execution_count": null,
      "outputs": []
    },
    {
      "cell_type": "code",
      "source": [
        "# Remove specified words from all tweets\n",
        "words_to_remove = ['americanair', 'united', 'delta', 'southwestair', 'jetblue', 'virginamerica', 'usairways', 'flight', 'plane']\n",
        "train_df['clean_text_no_stopwords'] = train_df['clean_text_no_stopwords'].apply(lambda x: ' '.join([word for word in x.split() if word not in words_to_remove]))\n",
        "\n",
        "# List down most common 15 words after removing specified words\n",
        "for sentiment, common_words in zip(train_df['airline_sentiment'].unique(), common_words_list):\n",
        "    common_words_after_removal = [word for word, _ in common_words if word not in words_to_remove]\n",
        "    print(f\"\\nMost common 15 words for sentiment {sentiment} after removing specified words:\")\n",
        "    print(common_words_after_removal)"
      ],
      "metadata": {
        "colab": {
          "base_uri": "https://localhost:8080/"
        },
        "id": "JbNSWKgXHxD8",
        "outputId": "b7d9a36a-93dc-45df-f2b5-03db90e7e4dd"
      },
      "execution_count": null,
      "outputs": [
        {
          "output_type": "stream",
          "name": "stdout",
          "text": [
            "\n",
            "Most common 15 words for sentiment positive after removing specified words:\n",
            "['plus', 'youve', 'added', 'commercials', 'experience', 'tacky']\n",
            "\n",
            "Most common 15 words for sentiment neutral after removing specified words:\n",
            "['didnt', 'today', 'must', 'mean', 'need', 'take', 'another', 'trip']\n",
            "\n",
            "Most common 15 words for sentiment negative after removing specified words:\n",
            "['really', 'aggressive', 'blast', 'obnoxious', 'entertainment', 'guests', 'faces', 'amp', 'little', 'recourse']\n"
          ]
        }
      ]
    },
    {
      "cell_type": "code",
      "source": [
        "# Encode Sentiments using Label Encoder\n",
        "label_encoder = LabelEncoder()\n",
        "train_df['encoded_sentiment'] = label_encoder.fit_transform(train_df['airline_sentiment'])\n",
        "\n",
        "# Vectorize the Text Column using CountVectorizer\n",
        "vectorizer = CountVectorizer()\n",
        "X_train = vectorizer.fit_transform(train_df['clean_text_no_stopwords'])\n",
        "\n",
        "# Prepare a multiclass Classification model using RandomForestClassifier\n",
        "model = RandomForestClassifier(n_estimators=100, random_state=42)\n",
        "model.fit(X_train, train_df['encoded_sentiment'])"
      ],
      "metadata": {
        "colab": {
          "base_uri": "https://localhost:8080/",
          "height": 74
        },
        "id": "AtB_FBf2IFn9",
        "outputId": "253987a8-5839-4594-bc38-01d48a132f94"
      },
      "execution_count": null,
      "outputs": [
        {
          "output_type": "execute_result",
          "data": {
            "text/plain": [
              "RandomForestClassifier(random_state=42)"
            ],
            "text/html": [
              "<style>#sk-container-id-2 {color: black;background-color: white;}#sk-container-id-2 pre{padding: 0;}#sk-container-id-2 div.sk-toggleable {background-color: white;}#sk-container-id-2 label.sk-toggleable__label {cursor: pointer;display: block;width: 100%;margin-bottom: 0;padding: 0.3em;box-sizing: border-box;text-align: center;}#sk-container-id-2 label.sk-toggleable__label-arrow:before {content: \"▸\";float: left;margin-right: 0.25em;color: #696969;}#sk-container-id-2 label.sk-toggleable__label-arrow:hover:before {color: black;}#sk-container-id-2 div.sk-estimator:hover label.sk-toggleable__label-arrow:before {color: black;}#sk-container-id-2 div.sk-toggleable__content {max-height: 0;max-width: 0;overflow: hidden;text-align: left;background-color: #f0f8ff;}#sk-container-id-2 div.sk-toggleable__content pre {margin: 0.2em;color: black;border-radius: 0.25em;background-color: #f0f8ff;}#sk-container-id-2 input.sk-toggleable__control:checked~div.sk-toggleable__content {max-height: 200px;max-width: 100%;overflow: auto;}#sk-container-id-2 input.sk-toggleable__control:checked~label.sk-toggleable__label-arrow:before {content: \"▾\";}#sk-container-id-2 div.sk-estimator input.sk-toggleable__control:checked~label.sk-toggleable__label {background-color: #d4ebff;}#sk-container-id-2 div.sk-label input.sk-toggleable__control:checked~label.sk-toggleable__label {background-color: #d4ebff;}#sk-container-id-2 input.sk-hidden--visually {border: 0;clip: rect(1px 1px 1px 1px);clip: rect(1px, 1px, 1px, 1px);height: 1px;margin: -1px;overflow: hidden;padding: 0;position: absolute;width: 1px;}#sk-container-id-2 div.sk-estimator {font-family: monospace;background-color: #f0f8ff;border: 1px dotted black;border-radius: 0.25em;box-sizing: border-box;margin-bottom: 0.5em;}#sk-container-id-2 div.sk-estimator:hover {background-color: #d4ebff;}#sk-container-id-2 div.sk-parallel-item::after {content: \"\";width: 100%;border-bottom: 1px solid gray;flex-grow: 1;}#sk-container-id-2 div.sk-label:hover label.sk-toggleable__label {background-color: #d4ebff;}#sk-container-id-2 div.sk-serial::before {content: \"\";position: absolute;border-left: 1px solid gray;box-sizing: border-box;top: 0;bottom: 0;left: 50%;z-index: 0;}#sk-container-id-2 div.sk-serial {display: flex;flex-direction: column;align-items: center;background-color: white;padding-right: 0.2em;padding-left: 0.2em;position: relative;}#sk-container-id-2 div.sk-item {position: relative;z-index: 1;}#sk-container-id-2 div.sk-parallel {display: flex;align-items: stretch;justify-content: center;background-color: white;position: relative;}#sk-container-id-2 div.sk-item::before, #sk-container-id-2 div.sk-parallel-item::before {content: \"\";position: absolute;border-left: 1px solid gray;box-sizing: border-box;top: 0;bottom: 0;left: 50%;z-index: -1;}#sk-container-id-2 div.sk-parallel-item {display: flex;flex-direction: column;z-index: 1;position: relative;background-color: white;}#sk-container-id-2 div.sk-parallel-item:first-child::after {align-self: flex-end;width: 50%;}#sk-container-id-2 div.sk-parallel-item:last-child::after {align-self: flex-start;width: 50%;}#sk-container-id-2 div.sk-parallel-item:only-child::after {width: 0;}#sk-container-id-2 div.sk-dashed-wrapped {border: 1px dashed gray;margin: 0 0.4em 0.5em 0.4em;box-sizing: border-box;padding-bottom: 0.4em;background-color: white;}#sk-container-id-2 div.sk-label label {font-family: monospace;font-weight: bold;display: inline-block;line-height: 1.2em;}#sk-container-id-2 div.sk-label-container {text-align: center;}#sk-container-id-2 div.sk-container {/* jupyter's `normalize.less` sets `[hidden] { display: none; }` but bootstrap.min.css set `[hidden] { display: none !important; }` so we also need the `!important` here to be able to override the default hidden behavior on the sphinx rendered scikit-learn.org. See: https://github.com/scikit-learn/scikit-learn/issues/21755 */display: inline-block !important;position: relative;}#sk-container-id-2 div.sk-text-repr-fallback {display: none;}</style><div id=\"sk-container-id-2\" class=\"sk-top-container\"><div class=\"sk-text-repr-fallback\"><pre>RandomForestClassifier(random_state=42)</pre><b>In a Jupyter environment, please rerun this cell to show the HTML representation or trust the notebook. <br />On GitHub, the HTML representation is unable to render, please try loading this page with nbviewer.org.</b></div><div class=\"sk-container\" hidden><div class=\"sk-item\"><div class=\"sk-estimator sk-toggleable\"><input class=\"sk-toggleable__control sk-hidden--visually\" id=\"sk-estimator-id-2\" type=\"checkbox\" checked><label for=\"sk-estimator-id-2\" class=\"sk-toggleable__label sk-toggleable__label-arrow\">RandomForestClassifier</label><div class=\"sk-toggleable__content\"><pre>RandomForestClassifier(random_state=42)</pre></div></div></div></div></div>"
            ]
          },
          "metadata": {},
          "execution_count": 28
        }
      ]
    },
    {
      "cell_type": "code",
      "source": [
        "# Read the test data\n",
        "test_df = pd.read_csv('/content/Tweets-test.csv')\n",
        "test_df = test_df[['airline_sentiment', 'text']]\n",
        "\n",
        "# Clean, encode, and vectorize the test data\n",
        "test_df['clean_text'] = test_df['text'].apply(clean_tweet)\n",
        "test_df['clean_text_no_stopwords'] = test_df['clean_text'].apply(remove_stopwords_and_get_common_words)\n",
        "test_df['clean_text_no_stopwords'] = test_df['clean_text_no_stopwords'].apply(lambda x: ' '.join([word for word in x.split() if word not in words_to_remove]))\n",
        "test_df['encoded_sentiment'] = label_encoder.transform(test_df['airline_sentiment'])\n",
        "X_test = vectorizer.transform(test_df['clean_text_no_stopwords'])\n",
        "\n",
        "# Predict the sentiments for test data\n",
        "y_pred = model.predict(X_test)\n",
        "\n",
        "# Print and explain the Confusion Matrix\n",
        "conf_matrix = confusion_matrix(test_df['encoded_sentiment'], y_pred)\n",
        "print(\"\\nConfusion Matrix:\")\n",
        "print(conf_matrix)\n"
      ],
      "metadata": {
        "colab": {
          "base_uri": "https://localhost:8080/"
        },
        "id": "XnKxORAVI_sa",
        "outputId": "e0848237-09c2-4f59-8805-44e9c33361f3"
      },
      "execution_count": null,
      "outputs": [
        {
          "output_type": "stream",
          "name": "stdout",
          "text": [
            "\n",
            "Confusion Matrix:\n",
            "[[2266  168   74]\n",
            " [ 316  451   84]\n",
            " [ 168   82  391]]\n"
          ]
        }
      ]
    },
    {
      "cell_type": "code",
      "source": [
        "import matplotlib.pyplot as plt\n",
        "# Read the test data\n",
        "test_df = pd.read_csv('/content/Tweets-test.csv')\n",
        "test_df = test_df[['airline_sentiment', 'text']]\n",
        "\n",
        "# Clean, encode, and vectorize the test data\n",
        "test_df['clean_text'] = test_df['text'].apply(clean_tweet)\n",
        "test_df['clean_text_no_stopwords'] = test_df['clean_text'].apply(remove_stopwords_and_get_common_words)\n",
        "test_df['clean_text_no_stopwords'] = test_df['clean_text_no_stopwords'].apply(lambda x: ' '.join([word for word in x.split() if word not in words_to_remove]))\n",
        "test_df['encoded_sentiment'] = label_encoder.transform(test_df['airline_sentiment'])\n",
        "X_test = vectorizer.transform(test_df['clean_text_no_stopwords'])\n",
        "\n",
        "# Predict the sentiments for test data\n",
        "y_pred = model.predict(X_test)\n",
        "\n",
        "# Print and explain the Confusion Matrix\n",
        "conf_matrix = confusion_matrix(test_df['encoded_sentiment'], y_pred)\n",
        "print(\"\\nConfusion Matrix:\")\n",
        "print(conf_matrix)\n",
        "\n",
        "# Plot the Confusion Matrix using seaborn\n",
        "plt.figure(figsize=(8, 6))\n",
        "sns.heatmap(conf_matrix, annot=True, fmt='d', cmap='Blues', xticklabels=label_encoder.classes_, yticklabels=label_encoder.classes_)\n",
        "plt.xlabel('Predicted Sentiment')\n",
        "plt.ylabel('True Sentiment')\n",
        "plt.title('Confusion Matrix')\n",
        "plt.show()\n",
        "\n",
        "# Compute Accuracy of the model\n",
        "accuracy = accuracy_score(test_df['encoded_sentiment'], y_pred)\n",
        "print(f\"\\nAccuracy: {accuracy:.4f}\")"
      ],
      "metadata": {
        "colab": {
          "base_uri": "https://localhost:8080/",
          "height": 685
        },
        "id": "1CfwDbRPCOhn",
        "outputId": "b2ba0d2a-0a51-46b0-ec2c-37d24d695a2a"
      },
      "execution_count": null,
      "outputs": [
        {
          "output_type": "stream",
          "name": "stdout",
          "text": [
            "\n",
            "Confusion Matrix:\n",
            "[[2266  168   74]\n",
            " [ 316  451   84]\n",
            " [ 168   82  391]]\n"
          ]
        },
        {
          "output_type": "display_data",
          "data": {
            "text/plain": [
              "<Figure size 800x600 with 2 Axes>"
            ],
            "image/png": "[encoded data removed]"
          },
          "metadata": {}
        },
        {
          "output_type": "stream",
          "name": "stdout",
          "text": [
            "\n",
            "Accuracy: 0.7770\n"
          ]
        }
      ]
    }
  ]
}